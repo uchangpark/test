{
  "nbformat": 4,
  "nbformat_minor": 0,
  "metadata": {
    "colab": {
      "name": "Untitled1.ipynb",
      "provenance": [],
      "authorship_tag": "ABX9TyMNc2ZhGCpyg1JomBdTEZgG",
      "include_colab_link": true
    },
    "kernelspec": {
      "name": "python3",
      "display_name": "Python 3"
    }
  },
  "cells": [
    {
      "cell_type": "markdown",
      "metadata": {
        "id": "view-in-github",
        "colab_type": "text"
      },
      "source": [
        "<a href=\"https://colab.research.google.com/github/uchangpark/test/blob/master/Untitled1.ipynb\" target=\"_parent\"><img src=\"https://colab.research.google.com/assets/colab-badge.svg\" alt=\"Open In Colab\"/></a>"
      ]
    },
    {
      "cell_type": "code",
      "metadata": {
        "id": "kwQsQqOKIogL",
        "colab_type": "code",
        "colab": {
          "base_uri": "https://localhost:8080/",
          "height": 679
        },
        "outputId": "76b1221a-cc42-4326-e3e0-8b4e6131e7f6"
      },
      "source": [
        "# -*- coding: utf-8 -*-\n",
        "\"\"\"\n",
        "Created on Wed Apr 15 13:38:54 2020\n",
        "@author: Park\n",
        "Example of Logistic Regression in Python \n",
        "https://datatofish.com/logistic-regression-python \n",
        "In general, a binary logistic regression describes the relationship between the dependent binary variable and one or more independent variable/s.\n",
        "The binary dependent variable has two possible outcomes:\n",
        "‘1’ for true/success; or ‘0’ for false/failure\n",
        "\"\"\"\n",
        "# https://datatofish.com/logistic-regression-python \n",
        "import pandas as pd\n",
        "from sklearn.model_selection import train_test_split\n",
        "from sklearn.linear_model import LogisticRegression\n",
        "from sklearn import metrics\n",
        "import seaborn as sn\n",
        "import matplotlib.pyplot as plt\n",
        "\n",
        "candidates = {'gmat': [780,750,690,710,680,730,690,720,740,690,610,690,710,680,770,610,580,650,540,590,620,600,550,550,570,670,660,580,650,660,640,620,660,660,680,650,670,580,590,690],\n",
        "              'gpa': [4,3.9,3.3,3.7,3.9,3.7,2.3,3.3,3.3,1.7,2.7,3.7,3.7,3.3,3.3,3,2.7,3.7,2.7,2.3,3.3,2,2.3,2.7,3,3.3,3.7,2.3,3.7,3.3,3,2.7,4,3.3,3.3,2.3,2.7,3.3,1.7,3.7],\n",
        "              'work_experience': [3,4,3,5,4,6,1,4,5,1,3,5,6,4,3,1,4,6,2,3,2,1,4,1,2,6,4,2,6,5,1,2,4,6,5,1,2,1,4,5],\n",
        "              'admitted': [1,1,0,1,0,1,0,1,1,0,0,1,1,0,1,0,0,1,0,0,1,0,0,0,0,1,1,0,1,1,0,0,1,1,1,0,0,0,0,1]\n",
        "              }\n",
        "\n",
        "df = pd.DataFrame(candidates,columns= ['gmat', 'gpa','work_experience','admitted'])\n",
        "\n",
        "#print (df)\n",
        "\n",
        "X = df[['gmat', 'gpa','work_experience']]\n",
        "y = df['admitted']\n",
        "\n",
        "X_train,X_test,y_train,y_test = train_test_split(X,y,test_size=0.25,random_state=0)\n",
        "\n",
        "logistic_regression= LogisticRegression()\n",
        "logistic_regression.fit(X_train,y_train)\n",
        "y_pred=logistic_regression.predict(X_test)\n",
        "print (X_test) #test dataset\n",
        "print (y_pred) #predicted values\n",
        "\n",
        "confusion_matrix = pd.crosstab(y_test, y_pred, rownames=['Actual'], colnames=['Predicted'])\n",
        "sn.heatmap(confusion_matrix, annot=True)\n",
        "\n",
        "print('Accuracy: ',metrics.accuracy_score(y_test, y_pred))\n",
        "plt.show()\n",
        "\n",
        "\n",
        "new_candidates = {'gmat': [590,740,680,610,710],\n",
        "                  'gpa': [2,3.7,3.3,2.3,3],\n",
        "                  'work_experience': [3,4,6,1,5]\n",
        "                  }\n",
        "\n",
        "df2 = pd.DataFrame(new_candidates,columns= ['gmat', 'gpa','work_experience'])\n",
        "y_pred2=logistic_regression.predict(df2)\n",
        "\n",
        "print (df2)\n",
        "print (y_pred2)\n"
      ],
      "execution_count": 1,
      "outputs": [
        {
          "output_type": "stream",
          "text": [
            "/usr/local/lib/python3.6/dist-packages/statsmodels/tools/_testing.py:19: FutureWarning: pandas.util.testing is deprecated. Use the functions in the public API at pandas.testing instead.\n",
            "  import pandas.util.testing as tm\n"
          ],
          "name": "stderr"
        },
        {
          "output_type": "stream",
          "text": [
            "    gmat  gpa  work_experience\n",
            "22   550  2.3                4\n",
            "20   620  3.3                2\n",
            "25   670  3.3                6\n",
            "4    680  3.9                4\n",
            "10   610  2.7                3\n",
            "15   610  3.0                1\n",
            "28   650  3.7                6\n",
            "11   690  3.7                5\n",
            "18   540  2.7                2\n",
            "29   660  3.3                5\n",
            "[0 0 1 1 0 0 1 1 0 1]\n",
            "Accuracy:  0.8\n"
          ],
          "name": "stdout"
        },
        {
          "output_type": "display_data",
          "data": {
            "image/png": "[encoded data removed]",
            "text/plain": [
              "<Figure size 432x288 with 2 Axes>"
            ]
          },
          "metadata": {
            "tags": [],
            "needs_background": "light"
          }
        },
        {
          "output_type": "stream",
          "text": [
            "   gmat  gpa  work_experience\n",
            "0   590  2.0                3\n",
            "1   740  3.7                4\n",
            "2   680  3.3                6\n",
            "3   610  2.3                1\n",
            "4   710  3.0                5\n",
            "[0 1 1 0 1]\n"
          ],
          "name": "stdout"
        }
      ]
    }
  ]
}